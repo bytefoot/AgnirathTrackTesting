{
 "cells": [
  {
   "cell_type": "code",
   "execution_count": null,
   "id": "47ff74e7",
   "metadata": {},
   "outputs": [],
   "source": [
    "# #\n",
    "# SIG_VALTYPE_ 1783 Precharge_Contactor_Driver_Stat : 1;\n",
    "# SIG_VALTYPE_ 1783 Precharge_State : 1;"
   ]
  }
 ],
 "metadata": {
  "language_info": {
   "name": "python"
  }
 },
 "nbformat": 4,
 "nbformat_minor": 5
}
